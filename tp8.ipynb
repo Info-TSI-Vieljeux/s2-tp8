{
 "cells": [
  {
   "cell_type": "markdown",
   "id": "1d10f18e",
   "metadata": {},
   "source": [
    ">Ouvrir le notebook dans Colab en modifiant le début de son adresse dans le navigateur :<br>\n",
    "il faut remplacer **github.com** par **githubtocolab.com**.<br>\n",
    "Une fois vos réponses apportées, le notebook devra être sauvegardé dans GitHub, dans le repository du TP :<br>\n",
    "*Fichier > Enregistrer une copie dans Github*<br>\n",
    "*Info-TSI-Vieljeux/tpx-votre_nom*<br>\n",
    "\n",
    "---"
   ]
  },
  {
   "cell_type": "markdown",
   "id": "1de89cdd",
   "metadata": {
    "deletable": false,
    "editable": false,
    "nbgrader": {
     "cell_type": "markdown",
     "checksum": "e1a9148e5b2d99dd917391e86acb92e2",
     "grade": false,
     "grade_id": "cell-1b094c74504b4ca7",
     "locked": true,
     "schema_version": 3,
     "solution": false,
     "task": false
    }
   },
   "source": [
    "# TP 8 : correction et complexité"
   ]
  },
  {
   "cell_type": "markdown",
   "id": "955fdace",
   "metadata": {
    "deletable": false,
    "editable": false,
    "nbgrader": {
     "cell_type": "markdown",
     "checksum": "a609f2dfc2c192e6b1fd28591b39b4eb",
     "grade": false,
     "grade_id": "cell-b02382462bd4f761",
     "locked": true,
     "schema_version": 3,
     "solution": false,
     "task": false
    }
   },
   "source": [
    "## Multiplication égyptienne"
   ]
  },
  {
   "cell_type": "markdown",
   "id": "97555233",
   "metadata": {
    "deletable": false,
    "editable": false,
    "nbgrader": {
     "cell_type": "markdown",
     "checksum": "922b8c3b80432eb4dcb4cf738a3ed5d6",
     "grade": false,
     "grade_id": "cell-127e8356b709b940",
     "locked": true,
     "schema_version": 3,
     "solution": false,
     "task": false
    }
   },
   "source": [
    "Considérons le code suivant, qui implémente un ancien algorithme égyptien.<br>\n",
    "`a` et `b` sont supposés être des entiers positifs."
   ]
  },
  {
   "cell_type": "code",
   "execution_count": null,
   "id": "e16dd16c",
   "metadata": {},
   "outputs": [],
   "source": [
    "def multegy(a, b) :\n",
    "    p = 0\n",
    "    while a > 0 :\n",
    "        if a%2 == 1 :\n",
    "            p += b\n",
    "        b *= 2\n",
    "        a //= 2\n",
    "    return p"
   ]
  },
  {
   "cell_type": "markdown",
   "id": "b6cc96f1",
   "metadata": {
    "deletable": false,
    "editable": false,
    "nbgrader": {
     "cell_type": "markdown",
     "checksum": "a9f0d1e1a968628e9951f19ef9eccbd4",
     "grade": false,
     "grade_id": "cell-70259bb27c7d0aad",
     "locked": true,
     "schema_version": 3,
     "solution": false,
     "task": false
    }
   },
   "source": [
    "Qui est le **variant de boucle** permettant de prover que `meltegy` termine toujours ?\n",
    "- a : a\n",
    "- b : b\n",
    "- c : p\n",
    "- d : autre réponse"
   ]
  },
  {
   "cell_type": "code",
   "execution_count": null,
   "id": "c174b47d",
   "metadata": {},
   "outputs": [],
   "source": [
    "# affecter à rep1 la chaîne de caractères 'a', 'b', 'c' ou 'd' correspondant à votre réponse\n",
    "rep1 = 'e'"
   ]
  },
  {
   "cell_type": "code",
   "execution_count": null,
   "id": "0935729a",
   "metadata": {
    "deletable": false,
    "editable": false,
    "nbgrader": {
     "cell_type": "code",
     "checksum": "2e094a1107201fe0be1cc36fec8123f9",
     "grade": true,
     "grade_id": "cell-6ffe9efe6d8c8e3c",
     "locked": true,
     "points": 1,
     "schema_version": 3,
     "solution": false,
     "task": false
    }
   },
   "outputs": [],
   "source": [
    "# Cellule de test, ne pas modifier"
   ]
  },
  {
   "cell_type": "markdown",
   "id": "3d7ab1c2",
   "metadata": {
    "deletable": false,
    "editable": false,
    "nbgrader": {
     "cell_type": "markdown",
     "checksum": "f6892262134dfed962b817d158ad448f",
     "grade": false,
     "grade_id": "cell-606f8a774af158b6",
     "locked": true,
     "schema_version": 3,
     "solution": false,
     "task": false
    }
   },
   "source": [
    "Détaillez l'éxécution de `multegy(23,5)` en affectant à `a_i`, `b_i`, `c_i`, les valeurs rencontrées à chaque itération."
   ]
  },
  {
   "cell_type": "code",
   "execution_count": null,
   "id": "4571c854",
   "metadata": {},
   "outputs": [],
   "source": [
    "a_0,b_0,p_0 = 23,5,0\n",
    "a_1,b_1,p_1 = ...\n",
    "..."
   ]
  },
  {
   "cell_type": "code",
   "execution_count": null,
   "id": "2f960bc8",
   "metadata": {
    "deletable": false,
    "editable": false,
    "nbgrader": {
     "cell_type": "code",
     "checksum": "60ad08794bf88a28800d7a589de09365",
     "grade": true,
     "grade_id": "cell-b4b5908236655996",
     "locked": true,
     "points": 1,
     "schema_version": 3,
     "solution": false,
     "task": false
    }
   },
   "outputs": [],
   "source": [
    "# Cellule de test, ne pas modifier"
   ]
  },
  {
   "cell_type": "markdown",
   "id": "f40b7e05",
   "metadata": {
    "deletable": false,
    "editable": false,
    "nbgrader": {
     "cell_type": "markdown",
     "checksum": "60f064b148673e69f7fbb529497cb41a",
     "grade": false,
     "grade_id": "cell-04467015632138ce",
     "locked": true,
     "schema_version": 3,
     "solution": false,
     "task": false
    }
   },
   "source": [
    "Construisons la preuve de l'algorithme :<br>\n",
    "\n",
    "on va montrer que $a\\times b + p$ est un **invariant de boucle** et l'utiliser pour prouver que l'algorithme retourne bien le produit entre $a$ et $b$.<br>\n",
    "\n",
    "Notons $a_k$, $b_k$, $p_k$, les valeurs de $a$, $b$ et $p$ après la k<sup>e</sup> itération et supposons $a_k\\times b_k + p_k = cste$.\n",
    "- initialisation : pour $k=0$, $a_0=a$, $b_0=b$ et $p_0=0$. D'où $a_0\\times b_0+p_0=a\\times b$\n",
    "- conservation : à la boucle suivante, deux cas se présentent :\n",
    "    - si $a$ est impair : $a_{k+1} = X$, $b_{k+1} = Y$ et $p_{k+1}= Z$.<br>\n",
    "    D'où $a_{k+1}\\times b_{k+1} + p_{k+1} =  a_k\\times b_k - b_k + b_k = a_k\\times b_k$\n",
    "    - si $a$ est pair : $a_{k+1} = \\frac{a}{2}$, $b_{k+1} = b\\times 2$ et $p_{k+1}=p_k$.<br>\n",
    "    D'où $a_{k+1}\\times b_{k+1} + p_{k+1} =  a_k\\times b_k + p_k$<br>\n",
    "    Par conséquent, $a_k\\times b_k + p_k$ est bien un invariant pour tout $k$.\n",
    "- terminaison : en sortie de boucle (itération $f$), $a_f = 0$, donc $a_f\\times b_f+p_f = p_f$. Or comme l'invariant est... invariant, il garde toujours la valeur qu'il possède en entrée (pour $k=0$) : d'où $p_f = a\\times b$. Et comme la fonction retourne $p_f$, cqfd."
   ]
  },
  {
   "cell_type": "markdown",
   "id": "0ce44985",
   "metadata": {
    "deletable": false,
    "editable": false,
    "nbgrader": {
     "cell_type": "markdown",
     "checksum": "19dc240c835087636876f32126d80819",
     "grade": false,
     "grade_id": "cell-ab30e02bf495134c",
     "locked": true,
     "schema_version": 3,
     "solution": false,
     "task": false
    }
   },
   "source": [
    "Que vallent X,Y et Z ?\n",
    "- a : $a_k$, $b_k$, $p_k+b_k$\n",
    "- b : $\\frac{a_k-1}{2}$, $b_k\\times 2$, $p_k+b_k$\n",
    "- c : $\\frac{a_k+1}{2}$, $b_k\\times 2$, $p_k$"
   ]
  },
  {
   "cell_type": "code",
   "execution_count": null,
   "id": "1375bee8",
   "metadata": {},
   "outputs": [],
   "source": [
    "# affecter à rep2 la chaîne de caractères 'a', 'b' ou 'c' correspondant à votre réponse\n",
    "rep2 = 'd'"
   ]
  },
  {
   "cell_type": "code",
   "execution_count": null,
   "id": "93880e2b",
   "metadata": {
    "deletable": false,
    "editable": false,
    "nbgrader": {
     "cell_type": "code",
     "checksum": "d4ccbfb678660caec5b19f3aec812069",
     "grade": true,
     "grade_id": "cell-9a2ce89484f08279",
     "locked": true,
     "points": 1,
     "schema_version": 3,
     "solution": false,
     "task": false
    }
   },
   "outputs": [],
   "source": [
    "# Cellule de test, ne pas modifier"
   ]
  },
  {
   "cell_type": "markdown",
   "id": "6336da8b",
   "metadata": {
    "deletable": false,
    "editable": false,
    "nbgrader": {
     "cell_type": "markdown",
     "checksum": "2abb8f9fb4185e54f930a8725cddd09b",
     "grade": false,
     "grade_id": "cell-e64b088f913e12ab",
     "locked": true,
     "schema_version": 3,
     "solution": false,
     "task": false
    }
   },
   "source": [
    "Quelle est la complexité de `multegy` (en supposant chacun des calculs comme élémentaire) ?\n",
    "- a : $O(a)$\n",
    "- b : $O(a\\times b)$\n",
    "- c : $O(a\\log b)$\n",
    "- d : $O(\\log a)$\n",
    "- e : $O(b)$"
   ]
  },
  {
   "cell_type": "markdown",
   "id": "59125baa",
   "metadata": {},
   "source": [
    "## Deux fonctions de recherche"
   ]
  },
  {
   "cell_type": "code",
   "execution_count": null,
   "id": "bf6c18e8",
   "metadata": {},
   "outputs": [],
   "source": [
    "def cherche(s, m) :  \n",
    "    for k in range(len(s) - len(m) + 1) :  \n",
    "        b = True  \n",
    "        for i in range(len(m)) :  \n",
    "            if s[k + i] != m[i] :  \n",
    "                b = False  \n",
    "        if b :  \n",
    "            return True  \n",
    "    return False "
   ]
  },
  {
   "cell_type": "code",
   "execution_count": null,
   "id": "8dda48ab",
   "metadata": {},
   "outputs": [],
   "source": [
    "def cherche2(s, m) :  \n",
    "    for k in range(len(s) - len(m) + 1) :  \n",
    "        if s[k:k + len(m)] == m :  \n",
    "            return True  \n",
    "    return False "
   ]
  },
  {
   "cell_type": "markdown",
   "id": "f1746b5c",
   "metadata": {
    "deletable": false,
    "editable": false,
    "nbgrader": {
     "cell_type": "markdown",
     "checksum": "d7a0cf17fecac5035b79add897617ddd",
     "grade": false,
     "grade_id": "cell-8cce3bd066e48121",
     "locked": true,
     "schema_version": 3,
     "solution": false,
     "task": false
    }
   },
   "source": [
    "Quelle est la complexité de la fonction cherche ? Et celle de cherche2 ?<br>\n",
    "Appelons `len(s)` $n$ et `len(m)` $p$. \n",
    "- a : les deux en $O(n\\times p)$\n",
    "- b : `cherche` en $O(n\\times p)$ et `cherche2` en en $O(n)$\n",
    "- c : une autre réponse"
   ]
  },
  {
   "cell_type": "code",
   "execution_count": null,
   "id": "0f2afe6f",
   "metadata": {},
   "outputs": [],
   "source": [
    "# affecter à rep3 la chaîne de caractères 'a', 'b' ou 'c' correspondant à votre réponse\n",
    "rep3 = 'd'"
   ]
  },
  {
   "cell_type": "code",
   "execution_count": null,
   "id": "02411025",
   "metadata": {
    "deletable": false,
    "editable": false,
    "nbgrader": {
     "cell_type": "code",
     "checksum": "15b61481e2a73a29c15a9254085540a5",
     "grade": true,
     "grade_id": "cell-c74b79919d8dc5f9",
     "locked": true,
     "points": 1,
     "schema_version": 3,
     "solution": false,
     "task": false
    }
   },
   "outputs": [],
   "source": [
    "# Cellule de test, ne pas modifier"
   ]
  },
  {
   "cell_type": "markdown",
   "id": "9d630f9f",
   "metadata": {
    "deletable": false,
    "editable": false,
    "nbgrader": {
     "cell_type": "markdown",
     "checksum": "c86ca1e00c3ee63b361f9198519c41f9",
     "grade": false,
     "grade_id": "cell-8f43588b23acfefc",
     "locked": true,
     "schema_version": 3,
     "solution": false,
     "task": false
    }
   },
   "source": [
    "Exécuter le code suivant peut vous aider à confirmer votre réponse."
   ]
  },
  {
   "cell_type": "code",
   "execution_count": null,
   "id": "fd45778a",
   "metadata": {},
   "outputs": [],
   "source": [
    "import time\n",
    "from random import randint\n",
    "\n",
    "abc = 'abcdefghijklmnopqrstuvwxyz'\n",
    "def motdenlettres(n) : \n",
    "    mot = ''\n",
    "    for i in range(n) :\n",
    "        mot += abc[randint(0,25)]\n",
    "    return mot\n",
    "\n",
    "print('-'*30)\n",
    "print('|    n    |    p   | cherche2 |')\n",
    "print('-'*30)\n",
    "for j in range(2,6) :\n",
    "    n = 10**5*2**j\n",
    "    s = motdenlettres(n)\n",
    "    for k in range(3) :\n",
    "        p = 10**4*2**k\n",
    "        m = motdenlettres(p)\n",
    "        \n",
    "        d = time.time()\n",
    "        cherche2(s,m)\n",
    "        f = time.time()\n",
    "        t = f - d\n",
    "        \n",
    "        print(f'|{n:^9d}|{p:^8d}|{t:^10.2E}|')\n",
    "    print('-'*30)"
   ]
  },
  {
   "cell_type": "markdown",
   "id": "91e5b029",
   "metadata": {
    "deletable": false,
    "editable": false,
    "nbgrader": {
     "cell_type": "markdown",
     "checksum": "347244af492d6ca3e025c5a4ea478ba9",
     "grade": false,
     "grade_id": "cell-ed7593e711051e17",
     "locked": true,
     "schema_version": 3,
     "solution": false,
     "task": false
    }
   },
   "source": [
    "Quelle est la complexité au meilleur de la fonction cherche ?\n",
    "- a : $O(n)$\n",
    "- b : $O(p)$\n",
    "- c : $O(1)$"
   ]
  },
  {
   "cell_type": "code",
   "execution_count": null,
   "id": "2307d555",
   "metadata": {},
   "outputs": [],
   "source": [
    "# affecter à rep4 la chaîne de caractères 'a', 'b' ou 'c' correspondant à votre réponse\n",
    "rep4 = 'd'"
   ]
  },
  {
   "cell_type": "code",
   "execution_count": null,
   "id": "211c9787",
   "metadata": {
    "deletable": false,
    "editable": false,
    "nbgrader": {
     "cell_type": "code",
     "checksum": "8abfb3b157f5dca86339d6c65b780ad3",
     "grade": true,
     "grade_id": "cell-b93f32c1940cceb8",
     "locked": true,
     "points": 1,
     "schema_version": 3,
     "solution": false,
     "task": false
    }
   },
   "outputs": [],
   "source": [
    "# Cellule de test, ne pas modifier"
   ]
  },
  {
   "cell_type": "markdown",
   "id": "9ce5ec80",
   "metadata": {
    "deletable": false,
    "editable": false,
    "nbgrader": {
     "cell_type": "markdown",
     "checksum": "8fd0dae95764237f986042f67941f6e7",
     "grade": false,
     "grade_id": "cell-895b9b128c052233",
     "locked": true,
     "schema_version": 3,
     "solution": false,
     "task": false
    }
   },
   "source": [
    "*Remarque :* on peut déterminer ce que fait la fonction `cherche` en mettant en lumière deux **invariants**, un pour chaque boucle.<br>\n",
    "La boucle interne a pour invariant \"`b` équivaut à `s[k:k+i]==m[:i]`\".<br>\n",
    "Et la boucle externe a pour invariant \"`s[j:j+len(m)] != m pour tout j<k`\" car s'il y avait égalité, on serait sorti de la  boucle avec le `return True`.<br>\n",
    "On en conclut que si la boucle n’est jamais interrompue par le `return True` alors `m` n’est pas un sous-mot de `s`.<br>\n",
    "Si la boucle est interrompue, d’après l’invariant de la boucle intérieure, on a trouvé `m` dans `s`. "
   ]
  }
 ],
 "metadata": {
  "kernelspec": {
   "display_name": "Python 3",
   "language": "python",
   "name": "python3"
  },
  "language_info": {
   "codemirror_mode": {
    "name": "ipython",
    "version": 3
   },
   "file_extension": ".py",
   "mimetype": "text/x-python",
   "name": "python",
   "nbconvert_exporter": "python",
   "pygments_lexer": "ipython3",
   "version": "3.8.10"
  }
 },
 "nbformat": 4,
 "nbformat_minor": 5
}
